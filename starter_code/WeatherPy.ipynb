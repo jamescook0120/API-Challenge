{
 "cells": [
  {
   "cell_type": "markdown",
   "metadata": {},
   "source": [
    "# WeatherPy\n",
    "----\n",
    "\n",
    "#### Note\n",
    "* Instructions have been included for each segment. You do not have to follow them exactly, but they are included to help you think through the steps."
   ]
  },
  {
   "cell_type": "code",
   "execution_count": 3,
   "metadata": {
    "scrolled": true
   },
   "outputs": [],
   "source": [
    "# Dependencies and Setup\n",
    "import matplotlib.pyplot as plt\n",
    "import pandas as pd\n",
    "import numpy as np\n",
    "import requests\n",
    "import time\n",
    "from scipy.stats import linregress\n",
    "\n",
    "# Import API key\n",
    "from api_keys import weather_api_key\n",
    "\n",
    "# Incorporated citipy to determine city based on latitude and longitude\n",
    "from citipy import citipy\n",
    "\n",
    "# Output File (CSV)\n",
    "output_data_file = \"output_data/cities.csv\"\n",
    "\n",
    "# Range of latitudes and longitudes\n",
    "lat_range = (-90, 90)\n",
    "lng_range = (-180, 180)"
   ]
  },
  {
   "cell_type": "markdown",
   "metadata": {},
   "source": [
    "## Generate Cities List"
   ]
  },
  {
   "cell_type": "code",
   "execution_count": 5,
   "metadata": {},
   "outputs": [
    {
     "data": {
      "text/plain": [
       "600"
      ]
     },
     "execution_count": 5,
     "metadata": {},
     "output_type": "execute_result"
    }
   ],
   "source": [
    "# List for holding lat_lngs and cities\n",
    "lat_lngs = []\n",
    "cities = []\n",
    "\n",
    "# Create a set of random lat and lng combinations\n",
    "lats = np.random.uniform(lat_range[0], lat_range[1], size=1500)\n",
    "lngs = np.random.uniform(lng_range[0], lng_range[1], size=1500)\n",
    "lat_lngs = zip(lats, lngs)\n",
    "\n",
    "# Identify nearest city for each lat, lng combination\n",
    "for lat_lng in lat_lngs:\n",
    "    city = citipy.nearest_city(lat_lng[0], lat_lng[1]).city_name\n",
    "    \n",
    "    # If the city is unique, then add it to a our cities list\n",
    "    if city not in cities:\n",
    "        cities.append(city)\n",
    "\n",
    "# Print the city count to confirm sufficient count\n",
    "len(cities)"
   ]
  },
  {
   "cell_type": "markdown",
   "metadata": {},
   "source": [
    "### Perform API Calls\n",
    "* Perform a weather check on each city using a series of successive API calls.\n",
    "* Include a print log of each city as it'sbeing processed (with the city number and city name).\n"
   ]
  },
  {
   "cell_type": "code",
   "execution_count": 6,
   "metadata": {
    "scrolled": true
   },
   "outputs": [
    {
     "name": "stdout",
     "output_type": "stream",
     "text": [
      "City number 1 of 600 complete. | Added norman wells\n",
      "City number 2 of 600 complete. | Added new norfolk\n",
      "City number 3 of 600 complete. | Added rikitea\n",
      "City number 4 of 600 complete. | Added nouakchott\n",
      "City number 5 of 600 complete. | Added upernavik\n",
      "City number 6 of 600 complete. | Added nanakuli\n",
      "City number 7 of 600 complete. | Added hobart\n",
      "City number 8 of 600 complete. | Added albany\n",
      "City number 9 of 600 complete. | Added barrow\n",
      "City number 10 of 600 complete. | Added sorong\n",
      "Missing data in city number 11 of 600. | Skipping barentsburg\n",
      "City number 12 of 600 complete. | Added daru\n",
      "City number 13 of 600 complete. | Added bethel\n",
      "City number 14 of 600 complete. | Added buchanan\n",
      "Missing data in city number 15 of 600. | Skipping belushya guba\n",
      "City number 16 of 600 complete. | Added esperance\n",
      "City number 17 of 600 complete. | Added cape town\n",
      "City number 18 of 600 complete. | Added nhulunbuy\n",
      "City number 19 of 600 complete. | Added tiksi\n",
      "City number 20 of 600 complete. | Added kapaa\n",
      "City number 21 of 600 complete. | Added mataura\n",
      "City number 22 of 600 complete. | Added avarua\n",
      "City number 23 of 600 complete. | Added burns lake\n",
      "City number 24 of 600 complete. | Added busselton\n",
      "City number 25 of 600 complete. | Added narsaq\n",
      "City number 26 of 600 complete. | Added jamestown\n",
      "City number 27 of 600 complete. | Added hambantota\n",
      "City number 28 of 600 complete. | Added beringovskiy\n",
      "City number 29 of 600 complete. | Added ushuaia\n",
      "City number 30 of 600 complete. | Added airai\n",
      "City number 31 of 600 complete. | Added nueva fuerza\n",
      "City number 32 of 600 complete. | Added yellowknife\n",
      "City number 33 of 600 complete. | Added motala\n",
      "City number 34 of 600 complete. | Added saint-augustin\n",
      "City number 35 of 600 complete. | Added san quintin\n",
      "City number 36 of 600 complete. | Added plainview\n",
      "City number 37 of 600 complete. | Added punta arenas\n",
      "City number 38 of 600 complete. | Added qaanaaq\n",
      "City number 39 of 600 complete. | Added portland\n",
      "City number 40 of 600 complete. | Added dikson\n",
      "City number 41 of 600 complete. | Added saint-prosper\n",
      "City number 42 of 600 complete. | Added pocao de pedras\n",
      "City number 43 of 600 complete. | Added mosquera\n",
      "City number 44 of 600 complete. | Added lorengau\n",
      "City number 45 of 600 complete. | Added port hardy\n",
      "City number 46 of 600 complete. | Added taltal\n",
      "City number 47 of 600 complete. | Added hirara\n",
      "City number 48 of 600 complete. | Added bahce\n",
      "City number 49 of 600 complete. | Added sancti spiritus\n",
      "City number 50 of 600 complete. | Added mehamn\n",
      "City number 51 of 600 complete. | Added miranda do corvo\n",
      "City number 52 of 600 complete. | Added port alfred\n",
      "City number 53 of 600 complete. | Added bathsheba\n",
      "City number 54 of 600 complete. | Added carnarvon\n",
      "City number 55 of 600 complete. | Added geraldton\n",
      "City number 56 of 600 complete. | Added puerto escondido\n",
      "City number 57 of 600 complete. | Added chokurdakh\n",
      "City number 58 of 600 complete. | Added rafaela\n",
      "City number 59 of 600 complete. | Added pacific grove\n",
      "City number 60 of 600 complete. | Added poum\n",
      "City number 61 of 600 complete. | Added fort nelson\n",
      "City number 62 of 600 complete. | Added hutchinson\n",
      "Missing data in city number 63 of 600. | Skipping illoqqortoormiut\n",
      "City number 64 of 600 complete. | Added port lincoln\n",
      "City number 65 of 600 complete. | Added atuona\n",
      "City number 66 of 600 complete. | Added hasaki\n",
      "Missing data in city number 67 of 600. | Skipping marcona\n",
      "City number 68 of 600 complete. | Added hilo\n",
      "City number 69 of 600 complete. | Added saskylakh\n",
      "City number 70 of 600 complete. | Added souillac\n",
      "City number 71 of 600 complete. | Added georgetown\n",
      "City number 72 of 600 complete. | Added kodiak\n",
      "City number 73 of 600 complete. | Added butaritari\n",
      "City number 74 of 600 complete. | Added castro\n",
      "City number 75 of 600 complete. | Added san julian\n",
      "City number 76 of 600 complete. | Added ahuimanu\n",
      "City number 77 of 600 complete. | Added namatanai\n",
      "City number 78 of 600 complete. | Added newport\n",
      "City number 79 of 600 complete. | Added coquimbo\n",
      "City number 80 of 600 complete. | Added puerto ayora\n",
      "City number 81 of 600 complete. | Added lasa\n",
      "City number 82 of 600 complete. | Added hermanus\n",
      "City number 83 of 600 complete. | Added leh\n",
      "City number 84 of 600 complete. | Added capiibary\n",
      "City number 85 of 600 complete. | Added mar del plata\n",
      "Missing data in city number 86 of 600. | Skipping taolanaro\n",
      "City number 87 of 600 complete. | Added campbell river\n",
      "City number 88 of 600 complete. | Added marzuq\n",
      "City number 89 of 600 complete. | Added fomboni\n",
      "City number 90 of 600 complete. | Added leningradskiy\n",
      "City number 91 of 600 complete. | Added nikolskoye\n",
      "City number 92 of 600 complete. | Added cairns\n",
      "Missing data in city number 93 of 600. | Skipping attawapiskat\n",
      "City number 94 of 600 complete. | Added cartagena del chaira\n",
      "Missing data in city number 95 of 600. | Skipping palabuhanratu\n",
      "City number 96 of 600 complete. | Added burnie\n",
      "City number 97 of 600 complete. | Added magistralnyy\n",
      "City number 98 of 600 complete. | Added cobija\n",
      "City number 99 of 600 complete. | Added porto novo\n",
      "Missing data in city number 100 of 600. | Skipping tumannyy\n",
      "City number 101 of 600 complete. | Added ilo\n",
      "City number 102 of 600 complete. | Added tuktoyaktuk\n",
      "Missing data in city number 103 of 600. | Skipping tunduru\n",
      "City number 104 of 600 complete. | Added hithadhoo\n",
      "City number 105 of 600 complete. | Added fethiye\n",
      "City number 106 of 600 complete. | Added ixtapa\n",
      "City number 107 of 600 complete. | Added mitsamiouli\n",
      "City number 108 of 600 complete. | Added dargaville\n",
      "Missing data in city number 109 of 600. | Skipping sinkat\n",
      "City number 110 of 600 complete. | Added riyadh\n",
      "City number 111 of 600 complete. | Added santa cruz\n",
      "City number 112 of 600 complete. | Added acarau\n",
      "Missing data in city number 113 of 600. | Skipping chagda\n",
      "City number 114 of 600 complete. | Added rio gallegos\n",
      "City number 115 of 600 complete. | Added santa maria\n",
      "City number 116 of 600 complete. | Added ketchikan\n",
      "City number 117 of 600 complete. | Added hrodna\n",
      "City number 118 of 600 complete. | Added mangrol\n",
      "City number 119 of 600 complete. | Added namibe\n",
      "City number 120 of 600 complete. | Added bredasdorp\n",
      "City number 121 of 600 complete. | Added quinarayan\n",
      "City number 122 of 600 complete. | Added charlestown\n",
      "City number 123 of 600 complete. | Added iquique\n",
      "City number 124 of 600 complete. | Added katsuura\n",
      "City number 125 of 600 complete. | Added vardo\n",
      "Missing data in city number 126 of 600. | Skipping amderma\n",
      "City number 127 of 600 complete. | Added ambilobe\n",
      "City number 128 of 600 complete. | Added dingle\n",
      "City number 129 of 600 complete. | Added cherskiy\n",
      "City number 130 of 600 complete. | Added rorvik\n",
      "Missing data in city number 131 of 600. | Skipping araguatins\n",
      "City number 132 of 600 complete. | Added midland\n",
      "City number 133 of 600 complete. | Added provideniya\n",
      "City number 134 of 600 complete. | Added antofagasta\n",
      "City number 135 of 600 complete. | Added nanortalik\n",
      "City number 136 of 600 complete. | Added vaini\n",
      "City number 137 of 600 complete. | Added saint-philippe\n",
      "City number 138 of 600 complete. | Added laguna\n",
      "City number 139 of 600 complete. | Added mountain home\n",
      "Missing data in city number 140 of 600. | Skipping halalo\n",
      "City number 141 of 600 complete. | Added tapia\n",
      "City number 142 of 600 complete. | Added phalaborwa\n",
      "City number 143 of 600 complete. | Added banikoara\n",
      "City number 144 of 600 complete. | Added chuy\n",
      "Missing data in city number 145 of 600. | Skipping paucartambo\n",
      "City number 146 of 600 complete. | Added salym\n",
      "City number 147 of 600 complete. | Added saldanha\n",
      "City number 148 of 600 complete. | Added rundu\n",
      "City number 149 of 600 complete. | Added ahipara\n",
      "City number 150 of 600 complete. | Added pietarsaari\n",
      "City number 151 of 600 complete. | Added bluff\n",
      "City number 152 of 600 complete. | Added dalhousie\n",
      "City number 153 of 600 complete. | Added nichinan\n",
      "Missing data in city number 154 of 600. | Skipping umzimvubu\n",
      "City number 155 of 600 complete. | Added muros\n",
      "City number 156 of 600 complete. | Added sai buri\n",
      "City number 157 of 600 complete. | Added kavieng\n",
      "City number 158 of 600 complete. | Added mount gambier\n",
      "City number 159 of 600 complete. | Added nazca\n",
      "City number 160 of 600 complete. | Added ancud\n",
      "City number 161 of 600 complete. | Added fremont\n",
      "City number 162 of 600 complete. | Added cabo san lucas\n",
      "City number 163 of 600 complete. | Added victoria\n"
     ]
    },
    {
     "name": "stdout",
     "output_type": "stream",
     "text": [
      "City number 164 of 600 complete. | Added south shields\n",
      "City number 165 of 600 complete. | Added isangel\n",
      "City number 166 of 600 complete. | Added arraial do cabo\n",
      "City number 167 of 600 complete. | Added sitka\n",
      "City number 168 of 600 complete. | Added leshukonskoye\n",
      "City number 169 of 600 complete. | Added ponta do sol\n",
      "City number 170 of 600 complete. | Added dawei\n",
      "City number 171 of 600 complete. | Added lethem\n",
      "City number 172 of 600 complete. | Added dekalb\n",
      "Missing data in city number 173 of 600. | Skipping rawannawi\n",
      "City number 174 of 600 complete. | Added lebu\n",
      "City number 175 of 600 complete. | Added goure\n",
      "City number 176 of 600 complete. | Added dunedin\n",
      "City number 177 of 600 complete. | Added pucallpa\n",
      "City number 178 of 600 complete. | Added george town\n",
      "City number 179 of 600 complete. | Added sechelt\n",
      "City number 180 of 600 complete. | Added yulara\n",
      "City number 181 of 600 complete. | Added oranjemund\n",
      "City number 182 of 600 complete. | Added mannargudi\n",
      "City number 183 of 600 complete. | Added port elizabeth\n",
      "City number 184 of 600 complete. | Added targu ocna\n",
      "Missing data in city number 185 of 600. | Skipping temaraia\n",
      "City number 186 of 600 complete. | Added luderitz\n",
      "City number 187 of 600 complete. | Added thompson\n",
      "City number 188 of 600 complete. | Added bonavista\n",
      "City number 189 of 600 complete. | Added shitanjing\n",
      "City number 190 of 600 complete. | Added maniitsoq\n",
      "City number 191 of 600 complete. | Added santa fe\n",
      "City number 192 of 600 complete. | Added adrar\n",
      "City number 193 of 600 complete. | Added pevek\n",
      "City number 194 of 600 complete. | Added tasiilaq\n",
      "City number 195 of 600 complete. | Added khatanga\n",
      "City number 196 of 600 complete. | Added big spring\n",
      "City number 197 of 600 complete. | Added masuguru\n",
      "City number 198 of 600 complete. | Added macas\n",
      "City number 199 of 600 complete. | Added isabela\n",
      "City number 200 of 600 complete. | Added carutapera\n",
      "City number 201 of 600 complete. | Added zhigansk\n",
      "Missing data in city number 202 of 600. | Skipping mys shmidta\n",
      "City number 203 of 600 complete. | Added nizhniy kuranakh\n",
      "City number 204 of 600 complete. | Added san isidro\n",
      "City number 205 of 600 complete. | Added lompoc\n",
      "City number 206 of 600 complete. | Added guanica\n",
      "City number 207 of 600 complete. | Added dauphin\n",
      "City number 208 of 600 complete. | Added bengkulu\n",
      "City number 209 of 600 complete. | Added jalu\n",
      "City number 210 of 600 complete. | Added umm lajj\n",
      "City number 211 of 600 complete. | Added camana\n",
      "City number 212 of 600 complete. | Added sao joao da barra\n",
      "City number 213 of 600 complete. | Added vavuniya\n",
      "City number 214 of 600 complete. | Added kruisfontein\n",
      "Missing data in city number 215 of 600. | Skipping grand river south east\n",
      "City number 216 of 600 complete. | Added tiznit\n",
      "City number 217 of 600 complete. | Added severo-kurilsk\n",
      "City number 218 of 600 complete. | Added christchurch\n",
      "City number 219 of 600 complete. | Added traverse city\n",
      "Missing data in city number 220 of 600. | Skipping sentyabrskiy\n",
      "City number 221 of 600 complete. | Added labuhan\n",
      "City number 222 of 600 complete. | Added nome\n",
      "City number 223 of 600 complete. | Added lewiston\n",
      "City number 224 of 600 complete. | Added guatire\n",
      "City number 225 of 600 complete. | Added sur\n",
      "City number 226 of 600 complete. | Added lagos\n",
      "City number 227 of 600 complete. | Added hovd\n",
      "City number 228 of 600 complete. | Added canora\n",
      "City number 229 of 600 complete. | Added carson city\n",
      "City number 230 of 600 complete. | Added bonthe\n",
      "City number 231 of 600 complete. | Added ribeira grande\n",
      "City number 232 of 600 complete. | Added nan\n",
      "City number 233 of 600 complete. | Added bamnet narong\n",
      "Missing data in city number 234 of 600. | Skipping nizhneyansk\n",
      "City number 235 of 600 complete. | Added sangar\n",
      "City number 236 of 600 complete. | Added komarov\n",
      "City number 237 of 600 complete. | Added grindavik\n",
      "City number 238 of 600 complete. | Added vila velha\n",
      "City number 239 of 600 complete. | Added nueve de julio\n",
      "City number 240 of 600 complete. | Added lakatoro\n",
      "City number 241 of 600 complete. | Added kamaishi\n",
      "Missing data in city number 242 of 600. | Skipping nguiu\n",
      "City number 243 of 600 complete. | Added bucerias\n",
      "City number 244 of 600 complete. | Added kushiro\n",
      "City number 245 of 600 complete. | Added micheweni\n",
      "City number 246 of 600 complete. | Added sumbe\n",
      "City number 247 of 600 complete. | Added langsa\n",
      "Missing data in city number 248 of 600. | Skipping suao\n",
      "Missing data in city number 249 of 600. | Skipping tsihombe\n",
      "City number 250 of 600 complete. | Added waitati\n",
      "City number 251 of 600 complete. | Added kapit\n",
      "City number 252 of 600 complete. | Added hami\n",
      "City number 253 of 600 complete. | Added fortuna\n",
      "City number 254 of 600 complete. | Added werota\n",
      "City number 255 of 600 complete. | Added russell\n",
      "City number 256 of 600 complete. | Added sweetwater\n",
      "City number 257 of 600 complete. | Added cidreira\n",
      "City number 258 of 600 complete. | Added betare oya\n",
      "City number 259 of 600 complete. | Added akureyri\n",
      "City number 260 of 600 complete. | Added kupang\n",
      "City number 261 of 600 complete. | Added tocopilla\n",
      "City number 262 of 600 complete. | Added asau\n",
      "City number 263 of 600 complete. | Added sakaiminato\n",
      "City number 264 of 600 complete. | Added broome\n",
      "City number 265 of 600 complete. | Added kaitangata\n",
      "City number 266 of 600 complete. | Added kibala\n",
      "City number 267 of 600 complete. | Added dabat\n",
      "City number 268 of 600 complete. | Added joshimath\n",
      "City number 269 of 600 complete. | Added vila franca do campo\n",
      "City number 270 of 600 complete. | Added east london\n",
      "City number 271 of 600 complete. | Added seoul\n",
      "City number 272 of 600 complete. | Added avera\n",
      "Missing data in city number 273 of 600. | Skipping saleaula\n",
      "City number 274 of 600 complete. | Added kutum\n",
      "City number 275 of 600 complete. | Added lafia\n",
      "City number 276 of 600 complete. | Added torbay\n",
      "City number 277 of 600 complete. | Added aklavik\n",
      "City number 278 of 600 complete. | Added hobyo\n",
      "City number 279 of 600 complete. | Added crib point\n",
      "City number 280 of 600 complete. | Added longyearbyen\n",
      "City number 281 of 600 complete. | Added plettenberg bay\n",
      "City number 282 of 600 complete. | Added iqaluit\n",
      "City number 283 of 600 complete. | Added sobolevo\n",
      "City number 284 of 600 complete. | Added lavrentiya\n",
      "Missing data in city number 285 of 600. | Skipping mentok\n",
      "City number 286 of 600 complete. | Added suleya\n",
      "City number 287 of 600 complete. | Added krasnaya polyana\n",
      "City number 288 of 600 complete. | Added rawson\n",
      "Missing data in city number 289 of 600. | Skipping yunjinghong\n",
      "City number 290 of 600 complete. | Added pozo colorado\n",
      "City number 291 of 600 complete. | Added prabumulih\n",
      "City number 292 of 600 complete. | Added matay\n",
      "City number 293 of 600 complete. | Added pierre\n",
      "City number 294 of 600 complete. | Added atambua\n",
      "City number 295 of 600 complete. | Added srandakan\n",
      "City number 296 of 600 complete. | Added manokwari\n",
      "Missing data in city number 297 of 600. | Skipping samusu\n",
      "City number 298 of 600 complete. | Added quatre cocos\n",
      "City number 299 of 600 complete. | Added alofi\n",
      "City number 300 of 600 complete. | Added san patricio\n",
      "City number 301 of 600 complete. | Added nouadhibou\n",
      "City number 302 of 600 complete. | Added arlit\n",
      "City number 303 of 600 complete. | Added zlitan\n",
      "City number 304 of 600 complete. | Added payson\n",
      "City number 305 of 600 complete. | Added dombarovskiy\n",
      "City number 306 of 600 complete. | Added morgan city\n",
      "Missing data in city number 307 of 600. | Skipping warqla\n",
      "City number 308 of 600 complete. | Added verkhnyaya inta\n",
      "City number 309 of 600 complete. | Added chaves\n",
      "City number 310 of 600 complete. | Added hofn\n",
      "City number 311 of 600 complete. | Added shulan\n",
      "City number 312 of 600 complete. | Added praia\n",
      "City number 313 of 600 complete. | Added faanui\n",
      "City number 314 of 600 complete. | Added bay-khaak\n",
      "Missing data in city number 315 of 600. | Skipping karaul\n",
      "City number 316 of 600 complete. | Added eldorado\n",
      "City number 317 of 600 complete. | Added octeville\n",
      "City number 318 of 600 complete. | Added alice springs\n",
      "Missing data in city number 319 of 600. | Skipping vaitupu\n",
      "City number 320 of 600 complete. | Added imperia\n",
      "City number 321 of 600 complete. | Added pangnirtung\n",
      "City number 322 of 600 complete. | Added abashiri\n",
      "City number 323 of 600 complete. | Added terme\n"
     ]
    },
    {
     "name": "stdout",
     "output_type": "stream",
     "text": [
      "City number 324 of 600 complete. | Added odesskoye\n",
      "City number 325 of 600 complete. | Added ilulissat\n",
      "City number 326 of 600 complete. | Added aykhal\n",
      "Missing data in city number 327 of 600. | Skipping agva\n",
      "City number 328 of 600 complete. | Added hamilton\n",
      "City number 329 of 600 complete. | Added yen bai\n",
      "City number 330 of 600 complete. | Added korla\n",
      "City number 331 of 600 complete. | Added cockburn town\n",
      "City number 332 of 600 complete. | Added palmer\n",
      "City number 333 of 600 complete. | Added palu\n",
      "City number 334 of 600 complete. | Added meulaboh\n",
      "City number 335 of 600 complete. | Added langham\n",
      "City number 336 of 600 complete. | Added lucea\n",
      "City number 337 of 600 complete. | Added ballina\n",
      "City number 338 of 600 complete. | Added severo-yeniseyskiy\n",
      "City number 339 of 600 complete. | Added astoria\n",
      "City number 340 of 600 complete. | Added boyolangu\n",
      "City number 341 of 600 complete. | Added ostrovnoy\n",
      "City number 342 of 600 complete. | Added altamira\n",
      "City number 343 of 600 complete. | Added teixoso\n",
      "City number 344 of 600 complete. | Added sao filipe\n",
      "City number 345 of 600 complete. | Added faya\n",
      "City number 346 of 600 complete. | Added kahului\n",
      "City number 347 of 600 complete. | Added mackenzie\n",
      "City number 348 of 600 complete. | Added deputatskiy\n",
      "City number 349 of 600 complete. | Added yakeshi\n",
      "City number 350 of 600 complete. | Added kodinsk\n",
      "City number 351 of 600 complete. | Added port blair\n",
      "City number 352 of 600 complete. | Added sarakhs\n",
      "City number 353 of 600 complete. | Added vila\n",
      "City number 354 of 600 complete. | Added praia da vitoria\n",
      "City number 355 of 600 complete. | Added jibuti\n",
      "City number 356 of 600 complete. | Added barra patuca\n",
      "City number 357 of 600 complete. | Added keti bandar\n",
      "Missing data in city number 358 of 600. | Skipping candawaga\n",
      "City number 359 of 600 complete. | Added devils lake\n",
      "City number 360 of 600 complete. | Added nyurba\n",
      "City number 361 of 600 complete. | Added college\n",
      "City number 362 of 600 complete. | Added sovetskiy\n",
      "City number 363 of 600 complete. | Added orocue\n",
      "City number 364 of 600 complete. | Added imbituba\n",
      "City number 365 of 600 complete. | Added lalsot\n",
      "City number 366 of 600 complete. | Added kieta\n",
      "City number 367 of 600 complete. | Added salalah\n",
      "City number 368 of 600 complete. | Added ponte nova\n",
      "City number 369 of 600 complete. | Added mahebourg\n",
      "City number 370 of 600 complete. | Added jandaia do sul\n",
      "City number 371 of 600 complete. | Added chapais\n",
      "City number 372 of 600 complete. | Added sambava\n",
      "City number 373 of 600 complete. | Added bambous virieux\n",
      "City number 374 of 600 complete. | Added mikhaylovka\n",
      "City number 375 of 600 complete. | Added muroto\n",
      "City number 376 of 600 complete. | Added ossora\n",
      "City number 377 of 600 complete. | Added saint-francois\n",
      "City number 378 of 600 complete. | Added bac lieu\n",
      "City number 379 of 600 complete. | Added pelym\n",
      "City number 380 of 600 complete. | Added egvekinot\n",
      "City number 381 of 600 complete. | Added assai\n",
      "City number 382 of 600 complete. | Added whitehorse\n",
      "City number 383 of 600 complete. | Added yavoriv\n",
      "City number 384 of 600 complete. | Added kudahuvadhoo\n",
      "City number 385 of 600 complete. | Added saint george\n",
      "City number 386 of 600 complete. | Added tombouctou\n",
      "City number 387 of 600 complete. | Added kitimat\n",
      "Missing data in city number 388 of 600. | Skipping kadykchan\n",
      "City number 389 of 600 complete. | Added mongu\n",
      "City number 390 of 600 complete. | Added horsham\n",
      "City number 391 of 600 complete. | Added petropavlovsk-kamchatskiy\n",
      "City number 392 of 600 complete. | Added karratha\n",
      "City number 393 of 600 complete. | Added santa cruz de la palma\n",
      "City number 394 of 600 complete. | Added lensk\n",
      "City number 395 of 600 complete. | Added palmira\n",
      "City number 396 of 600 complete. | Added cutro\n",
      "City number 397 of 600 complete. | Added westport\n",
      "City number 398 of 600 complete. | Added batemans bay\n",
      "City number 399 of 600 complete. | Added dingtao\n",
      "City number 400 of 600 complete. | Added puri\n",
      "City number 401 of 600 complete. | Added oktyabrskoye\n",
      "City number 402 of 600 complete. | Added olafsvik\n",
      "Missing data in city number 403 of 600. | Skipping kracheh\n",
      "City number 404 of 600 complete. | Added tuatapere\n",
      "Missing data in city number 405 of 600. | Skipping karkaralinsk\n",
      "City number 406 of 600 complete. | Added port macquarie\n",
      "City number 407 of 600 complete. | Added atbasar\n",
      "City number 408 of 600 complete. | Added lagoa\n",
      "City number 409 of 600 complete. | Added pisco\n",
      "City number 410 of 600 complete. | Added cabedelo\n",
      "City number 411 of 600 complete. | Added houma\n",
      "City number 412 of 600 complete. | Added krasnovishersk\n",
      "City number 413 of 600 complete. | Added puiesti\n",
      "City number 414 of 600 complete. | Added cururupu\n",
      "City number 415 of 600 complete. | Added edson\n",
      "City number 416 of 600 complete. | Added clyde river\n",
      "City number 417 of 600 complete. | Added harper\n",
      "City number 418 of 600 complete. | Added kurilsk\n",
      "City number 419 of 600 complete. | Added curuca\n",
      "Missing data in city number 420 of 600. | Skipping tanshui\n",
      "City number 421 of 600 complete. | Added raton\n",
      "City number 422 of 600 complete. | Added makakilo city\n",
      "Missing data in city number 423 of 600. | Skipping hebertville\n",
      "City number 424 of 600 complete. | Added boguchany\n",
      "City number 425 of 600 complete. | Added fare\n",
      "City number 426 of 600 complete. | Added manavalakurichi\n",
      "City number 427 of 600 complete. | Added sao francisco do sul\n",
      "City number 428 of 600 complete. | Added kattivakkam\n",
      "City number 429 of 600 complete. | Added san cristobal\n",
      "City number 430 of 600 complete. | Added kavaratti\n",
      "Missing data in city number 431 of 600. | Skipping toliary\n",
      "City number 432 of 600 complete. | Added ugoofaaru\n",
      "Missing data in city number 433 of 600. | Skipping cheuskiny\n",
      "City number 434 of 600 complete. | Added borazjan\n",
      "City number 435 of 600 complete. | Added ngunguru\n",
      "City number 436 of 600 complete. | Added alyangula\n",
      "City number 437 of 600 complete. | Added ust-nera\n",
      "City number 438 of 600 complete. | Added nove mesto pod smrkem\n",
      "City number 439 of 600 complete. | Added tela\n",
      "City number 440 of 600 complete. | Added rio grande\n",
      "City number 441 of 600 complete. | Added marabba\n",
      "City number 442 of 600 complete. | Added sinnamary\n",
      "City number 443 of 600 complete. | Added onega\n",
      "City number 444 of 600 complete. | Added caramay\n",
      "City number 445 of 600 complete. | Added kyzyl\n",
      "City number 446 of 600 complete. | Added ntcheu\n",
      "City number 447 of 600 complete. | Added san francisco\n",
      "City number 448 of 600 complete. | Added osterhofen\n",
      "City number 449 of 600 complete. | Added charters towers\n",
      "City number 450 of 600 complete. | Added arkhangelsk\n",
      "City number 451 of 600 complete. | Added goderich\n",
      "City number 452 of 600 complete. | Added andalan\n",
      "City number 453 of 600 complete. | Added half moon bay\n",
      "City number 454 of 600 complete. | Added bauchi\n",
      "City number 455 of 600 complete. | Added constantine\n",
      "City number 456 of 600 complete. | Added los llanos de aridane\n",
      "City number 457 of 600 complete. | Added jimo\n",
      "City number 458 of 600 complete. | Added zyryanka\n",
      "City number 459 of 600 complete. | Added nandigama\n",
      "City number 460 of 600 complete. | Added kununurra\n",
      "City number 461 of 600 complete. | Added haines junction\n",
      "City number 462 of 600 complete. | Added auki\n",
      "City number 463 of 600 complete. | Added nuuk\n",
      "City number 464 of 600 complete. | Added garhi khairo\n",
      "City number 465 of 600 complete. | Added balabac\n",
      "City number 466 of 600 complete. | Added madang\n",
      "City number 467 of 600 complete. | Added ville-marie\n",
      "City number 468 of 600 complete. | Added chute-aux-outardes\n",
      "Missing data in city number 469 of 600. | Skipping lushunkou\n",
      "City number 470 of 600 complete. | Added kuldur\n",
      "City number 471 of 600 complete. | Added broken hill\n",
      "City number 472 of 600 complete. | Added ishigaki\n",
      "City number 473 of 600 complete. | Added sorland\n",
      "City number 474 of 600 complete. | Added itaituba\n",
      "City number 475 of 600 complete. | Added beloha\n",
      "City number 476 of 600 complete. | Added mabaruma\n",
      "City number 477 of 600 complete. | Added lynn\n",
      "City number 478 of 600 complete. | Added lismore\n",
      "City number 479 of 600 complete. | Added jutai\n",
      "Missing data in city number 480 of 600. | Skipping tubruq\n",
      "City number 481 of 600 complete. | Added bambanglipuro\n",
      "City number 482 of 600 complete. | Added iracoubo\n",
      "Missing data in city number 483 of 600. | Skipping yuzhno-yeniseyskiy\n"
     ]
    },
    {
     "name": "stdout",
     "output_type": "stream",
     "text": [
      "City number 484 of 600 complete. | Added kloulklubed\n",
      "Missing data in city number 485 of 600. | Skipping satitoa\n",
      "City number 486 of 600 complete. | Added mantua\n",
      "City number 487 of 600 complete. | Added krasnoselkup\n",
      "City number 488 of 600 complete. | Added turayf\n",
      "City number 489 of 600 complete. | Added buin\n",
      "City number 490 of 600 complete. | Added dafeng\n",
      "City number 491 of 600 complete. | Added mazagao\n",
      "City number 492 of 600 complete. | Added san luis\n",
      "City number 493 of 600 complete. | Added flinders\n",
      "City number 494 of 600 complete. | Added axim\n",
      "City number 495 of 600 complete. | Added talaya\n",
      "City number 496 of 600 complete. | Added dalmau\n",
      "City number 497 of 600 complete. | Added deep river\n",
      "City number 498 of 600 complete. | Added talnakh\n",
      "City number 499 of 600 complete. | Added labytnangi\n",
      "Missing data in city number 500 of 600. | Skipping glubokoe\n",
      "City number 501 of 600 complete. | Added kwinana\n",
      "City number 502 of 600 complete. | Added veraval\n",
      "City number 503 of 600 complete. | Added aden\n",
      "City number 504 of 600 complete. | Added constitucion\n",
      "City number 505 of 600 complete. | Added yar-sale\n",
      "City number 506 of 600 complete. | Added ibotirama\n",
      "Missing data in city number 507 of 600. | Skipping andevoranto\n",
      "City number 508 of 600 complete. | Added inhambane\n",
      "City number 509 of 600 complete. | Added teknaf\n",
      "Missing data in city number 510 of 600. | Skipping bur gabo\n",
      "City number 511 of 600 complete. | Added kalabo\n",
      "City number 512 of 600 complete. | Added changping\n",
      "City number 513 of 600 complete. | Added gat\n",
      "City number 514 of 600 complete. | Added itoman\n",
      "City number 515 of 600 complete. | Added svelgen\n",
      "City number 516 of 600 complete. | Added cumana\n",
      "City number 517 of 600 complete. | Added ribeira brava\n",
      "City number 518 of 600 complete. | Added akyab\n",
      "City number 519 of 600 complete. | Added nantucket\n",
      "City number 520 of 600 complete. | Added viking\n",
      "City number 521 of 600 complete. | Added singaraja\n",
      "City number 522 of 600 complete. | Added pochutla\n",
      "City number 523 of 600 complete. | Added cozumel\n",
      "City number 524 of 600 complete. | Added aquiraz\n",
      "City number 525 of 600 complete. | Added moyale\n",
      "City number 526 of 600 complete. | Added voloiac\n",
      "City number 527 of 600 complete. | Added kota kinabalu\n",
      "Missing data in city number 528 of 600. | Skipping bolungarvik\n",
      "City number 529 of 600 complete. | Added namangan\n",
      "City number 530 of 600 complete. | Added srinagar\n",
      "City number 531 of 600 complete. | Added kasempa\n",
      "City number 532 of 600 complete. | Added laje\n",
      "City number 533 of 600 complete. | Added kachiry\n",
      "City number 534 of 600 complete. | Added saint anthony\n",
      "City number 535 of 600 complete. | Added shache\n",
      "City number 536 of 600 complete. | Added poplar bluff\n",
      "City number 537 of 600 complete. | Added southend-on-sea\n",
      "City number 538 of 600 complete. | Added tezu\n",
      "City number 539 of 600 complete. | Added sherlovaya gora\n",
      "City number 540 of 600 complete. | Added rolandia\n",
      "City number 541 of 600 complete. | Added coihaique\n",
      "City number 542 of 600 complete. | Added parauna\n",
      "City number 543 of 600 complete. | Added la ronge\n",
      "City number 544 of 600 complete. | Added mocuba\n",
      "City number 545 of 600 complete. | Added honiara\n",
      "City number 546 of 600 complete. | Added barcelos\n",
      "City number 547 of 600 complete. | Added betioky\n",
      "City number 548 of 600 complete. | Added kinablangan\n",
      "City number 549 of 600 complete. | Added vazante\n",
      "City number 550 of 600 complete. | Added camacha\n",
      "City number 551 of 600 complete. | Added khorixas\n",
      "Missing data in city number 552 of 600. | Skipping grand centre\n",
      "Missing data in city number 553 of 600. | Skipping mocambique\n",
      "City number 554 of 600 complete. | Added ipixuna\n",
      "City number 555 of 600 complete. | Added richards bay\n",
      "City number 556 of 600 complete. | Added henties bay\n",
      "City number 557 of 600 complete. | Added acu\n",
      "City number 558 of 600 complete. | Added acapulco\n",
      "City number 559 of 600 complete. | Added lokosovo\n",
      "City number 560 of 600 complete. | Added gawler\n",
      "City number 561 of 600 complete. | Added antalaha\n",
      "City number 562 of 600 complete. | Added pattani\n",
      "City number 563 of 600 complete. | Added havre-saint-pierre\n",
      "City number 564 of 600 complete. | Added bonnyville\n",
      "City number 565 of 600 complete. | Added thoen\n",
      "City number 566 of 600 complete. | Added reconquista\n",
      "City number 567 of 600 complete. | Added nizwa\n",
      "City number 568 of 600 complete. | Added dourbali\n",
      "City number 569 of 600 complete. | Added lahaina\n",
      "City number 570 of 600 complete. | Added amarante do maranhao\n",
      "City number 571 of 600 complete. | Added vostochnyy\n",
      "City number 572 of 600 complete. | Added goya\n",
      "City number 573 of 600 complete. | Added prainha\n",
      "City number 574 of 600 complete. | Added winchester\n",
      "City number 575 of 600 complete. | Added najran\n",
      "Missing data in city number 576 of 600. | Skipping sorvag\n",
      "City number 577 of 600 complete. | Added nortelandia\n",
      "City number 578 of 600 complete. | Added abilene\n",
      "City number 579 of 600 complete. | Added tessalit\n",
      "City number 580 of 600 complete. | Added gorkovskiy\n",
      "City number 581 of 600 complete. | Added port hawkesbury\n",
      "City number 582 of 600 complete. | Added guerrero negro\n",
      "City number 583 of 600 complete. | Added kolyvan\n",
      "City number 584 of 600 complete. | Added springfield\n",
      "City number 585 of 600 complete. | Added naze\n",
      "City number 586 of 600 complete. | Added morondava\n",
      "City number 587 of 600 complete. | Added lebyazhye\n",
      "City number 588 of 600 complete. | Added sawakin\n",
      "Missing data in city number 589 of 600. | Skipping dinsor\n",
      "City number 590 of 600 complete. | Added klaksvik\n",
      "City number 591 of 600 complete. | Added saint-joseph\n",
      "City number 592 of 600 complete. | Added bereda\n",
      "City number 593 of 600 complete. | Added kano\n",
      "City number 594 of 600 complete. | Added dzhebariki-khaya\n",
      "City number 595 of 600 complete. | Added bodden town\n",
      "City number 596 of 600 complete. | Added atar\n",
      "City number 597 of 600 complete. | Added baykit\n",
      "City number 598 of 600 complete. | Added tacuarembo\n",
      "Missing data in city number 599 of 600. | Skipping tapaua\n",
      "City number 600 of 600 complete. | Added aparecida do taboado\n"
     ]
    }
   ],
   "source": [
    "# Save config information\n",
    "url = \"http://api.openweathermap.org/data/2.5/weather?\"\n",
    "units = \"imperial\"\n",
    "\n",
    "number = 1\n",
    "\n",
    "city_name = []\n",
    "lat = []\n",
    "lng = []\n",
    "temp = []\n",
    "humid = []\n",
    "clouds = []\n",
    "wind = []\n",
    "\n",
    "for city in cities:\n",
    "   try:\n",
    "        city_data = (requests.get(url + '&q=' + city + '&q=' + units + '&appid=' + weather_api_key)).json()\n",
    "        city_name.append(city_data['name'])\n",
    "        lat.append(city_data['coord']['lat'])\n",
    "        lng.append(city_data['coord']['lon'])\n",
    "        temp.append(city_data['main']['temp'])\n",
    "        humid.append(city_data['main']['humidity'])\n",
    "        clouds.append(city_data['clouds']['all'])\n",
    "        wind.append(city_data['wind']['speed'])\n",
    "        print(f'City number {number} of {len(cities)} complete. | Added {city}')\n",
    "        number = number + 1\n",
    "    \n",
    "   except KeyError:\n",
    "        print(f'Missing data in city number {number} of {len(cities)}. | Skipping {city}')\n",
    "        number = number + 1"
   ]
  },
  {
   "cell_type": "markdown",
   "metadata": {},
   "source": [
    "### Convert Raw Data to DataFrame\n",
    "* Export the city data into a .csv.\n",
    "* Display the DataFrame"
   ]
  },
  {
   "cell_type": "code",
   "execution_count": 7,
   "metadata": {},
   "outputs": [
    {
     "data": {
      "text/html": [
       "<div>\n",
       "<style scoped>\n",
       "    .dataframe tbody tr th:only-of-type {\n",
       "        vertical-align: middle;\n",
       "    }\n",
       "\n",
       "    .dataframe tbody tr th {\n",
       "        vertical-align: top;\n",
       "    }\n",
       "\n",
       "    .dataframe thead th {\n",
       "        text-align: right;\n",
       "    }\n",
       "</style>\n",
       "<table border=\"1\" class=\"dataframe\">\n",
       "  <thead>\n",
       "    <tr style=\"text-align: right;\">\n",
       "      <th></th>\n",
       "      <th>City</th>\n",
       "      <th>Latitude</th>\n",
       "      <th>Longitude</th>\n",
       "      <th>Temperature</th>\n",
       "      <th>Humidity</th>\n",
       "      <th>Cloudiness</th>\n",
       "      <th>Wind Speed</th>\n",
       "    </tr>\n",
       "  </thead>\n",
       "  <tbody>\n",
       "    <tr>\n",
       "      <th>0</th>\n",
       "      <td>Norman Wells</td>\n",
       "      <td>65.2820</td>\n",
       "      <td>-126.8329</td>\n",
       "      <td>265.15</td>\n",
       "      <td>41</td>\n",
       "      <td>75</td>\n",
       "      <td>1.54</td>\n",
       "    </tr>\n",
       "    <tr>\n",
       "      <th>1</th>\n",
       "      <td>New Norfolk</td>\n",
       "      <td>-42.7826</td>\n",
       "      <td>147.0587</td>\n",
       "      <td>289.04</td>\n",
       "      <td>49</td>\n",
       "      <td>4</td>\n",
       "      <td>1.79</td>\n",
       "    </tr>\n",
       "    <tr>\n",
       "      <th>2</th>\n",
       "      <td>Rikitea</td>\n",
       "      <td>-23.1203</td>\n",
       "      <td>-134.9692</td>\n",
       "      <td>298.76</td>\n",
       "      <td>72</td>\n",
       "      <td>100</td>\n",
       "      <td>3.26</td>\n",
       "    </tr>\n",
       "    <tr>\n",
       "      <th>3</th>\n",
       "      <td>Nouakchott</td>\n",
       "      <td>18.0858</td>\n",
       "      <td>-15.9785</td>\n",
       "      <td>294.15</td>\n",
       "      <td>83</td>\n",
       "      <td>52</td>\n",
       "      <td>5.14</td>\n",
       "    </tr>\n",
       "    <tr>\n",
       "      <th>4</th>\n",
       "      <td>Upernavik</td>\n",
       "      <td>72.7868</td>\n",
       "      <td>-56.1549</td>\n",
       "      <td>274.09</td>\n",
       "      <td>77</td>\n",
       "      <td>100</td>\n",
       "      <td>2.16</td>\n",
       "    </tr>\n",
       "  </tbody>\n",
       "</table>\n",
       "</div>"
      ],
      "text/plain": [
       "           City  Latitude  Longitude  Temperature  Humidity  Cloudiness  \\\n",
       "0  Norman Wells   65.2820  -126.8329       265.15        41          75   \n",
       "1   New Norfolk  -42.7826   147.0587       289.04        49           4   \n",
       "2       Rikitea  -23.1203  -134.9692       298.76        72         100   \n",
       "3    Nouakchott   18.0858   -15.9785       294.15        83          52   \n",
       "4     Upernavik   72.7868   -56.1549       274.09        77         100   \n",
       "\n",
       "   Wind Speed  \n",
       "0        1.54  \n",
       "1        1.79  \n",
       "2        3.26  \n",
       "3        5.14  \n",
       "4        2.16  "
      ]
     },
     "execution_count": 7,
     "metadata": {},
     "output_type": "execute_result"
    }
   ],
   "source": [
    "city_data_df = pd.DataFrame({'City': city_name,\n",
    "                            'Latitude': lat,\n",
    "                            'Longitude': lng,\n",
    "                            'Temperature': temp,\n",
    "                            'Humidity': humid,\n",
    "                            'Cloudiness': clouds,\n",
    "                            'Wind Speed': wind})\n",
    "\n",
    "\n",
    "pd.DataFrame.to_csv(city_data_df, 'city_data.csv')\n",
    "\n",
    "city_data_df.head()"
   ]
  },
  {
   "cell_type": "code",
   "execution_count": null,
   "metadata": {},
   "outputs": [],
   "source": [
    "print(city_data_df)"
   ]
  },
  {
   "cell_type": "markdown",
   "metadata": {},
   "source": [
    "## Inspect the data and remove the cities where the humidity > 100%.\n",
    "----\n",
    "Skip this step if there are no cities that have humidity > 100%. "
   ]
  },
  {
   "cell_type": "code",
   "execution_count": null,
   "metadata": {},
   "outputs": [],
   "source": []
  },
  {
   "cell_type": "code",
   "execution_count": 8,
   "metadata": {},
   "outputs": [
    {
     "name": "stdout",
     "output_type": "stream",
     "text": [
      "Int64Index([], dtype='int64')\n"
     ]
    }
   ],
   "source": [
    "#  Get the indices of cities that have humidity over 100%.\n",
    "humid_cities = city_data_df[city_data_df['Humidity'] > 100].index\n",
    "print(humid_cities)"
   ]
  },
  {
   "cell_type": "code",
   "execution_count": 9,
   "metadata": {},
   "outputs": [],
   "source": [
    "# Make a new DataFrame equal to the city data to drop all humidity outliers by index.\n",
    "# Passing \"inplace=False\" will make a copy of the city_data DataFrame, which we call \"clean_city_data\".\n",
    "clean_city_df = city_data_df.drop(humid_cities, inplace=False)"
   ]
  },
  {
   "cell_type": "code",
   "execution_count": 10,
   "metadata": {},
   "outputs": [
    {
     "data": {
      "text/html": [
       "<div>\n",
       "<style scoped>\n",
       "    .dataframe tbody tr th:only-of-type {\n",
       "        vertical-align: middle;\n",
       "    }\n",
       "\n",
       "    .dataframe tbody tr th {\n",
       "        vertical-align: top;\n",
       "    }\n",
       "\n",
       "    .dataframe thead th {\n",
       "        text-align: right;\n",
       "    }\n",
       "</style>\n",
       "<table border=\"1\" class=\"dataframe\">\n",
       "  <thead>\n",
       "    <tr style=\"text-align: right;\">\n",
       "      <th></th>\n",
       "      <th>City</th>\n",
       "      <th>Latitude</th>\n",
       "      <th>Longitude</th>\n",
       "      <th>Temperature</th>\n",
       "      <th>Humidity</th>\n",
       "      <th>Cloudiness</th>\n",
       "      <th>Wind Speed</th>\n",
       "    </tr>\n",
       "  </thead>\n",
       "  <tbody>\n",
       "    <tr>\n",
       "      <th>0</th>\n",
       "      <td>Norman Wells</td>\n",
       "      <td>65.2820</td>\n",
       "      <td>-126.8329</td>\n",
       "      <td>265.15</td>\n",
       "      <td>41</td>\n",
       "      <td>75</td>\n",
       "      <td>1.54</td>\n",
       "    </tr>\n",
       "    <tr>\n",
       "      <th>1</th>\n",
       "      <td>New Norfolk</td>\n",
       "      <td>-42.7826</td>\n",
       "      <td>147.0587</td>\n",
       "      <td>289.04</td>\n",
       "      <td>49</td>\n",
       "      <td>4</td>\n",
       "      <td>1.79</td>\n",
       "    </tr>\n",
       "    <tr>\n",
       "      <th>2</th>\n",
       "      <td>Rikitea</td>\n",
       "      <td>-23.1203</td>\n",
       "      <td>-134.9692</td>\n",
       "      <td>298.76</td>\n",
       "      <td>72</td>\n",
       "      <td>100</td>\n",
       "      <td>3.26</td>\n",
       "    </tr>\n",
       "    <tr>\n",
       "      <th>3</th>\n",
       "      <td>Nouakchott</td>\n",
       "      <td>18.0858</td>\n",
       "      <td>-15.9785</td>\n",
       "      <td>294.15</td>\n",
       "      <td>83</td>\n",
       "      <td>52</td>\n",
       "      <td>5.14</td>\n",
       "    </tr>\n",
       "    <tr>\n",
       "      <th>4</th>\n",
       "      <td>Upernavik</td>\n",
       "      <td>72.7868</td>\n",
       "      <td>-56.1549</td>\n",
       "      <td>274.09</td>\n",
       "      <td>77</td>\n",
       "      <td>100</td>\n",
       "      <td>2.16</td>\n",
       "    </tr>\n",
       "  </tbody>\n",
       "</table>\n",
       "</div>"
      ],
      "text/plain": [
       "           City  Latitude  Longitude  Temperature  Humidity  Cloudiness  \\\n",
       "0  Norman Wells   65.2820  -126.8329       265.15        41          75   \n",
       "1   New Norfolk  -42.7826   147.0587       289.04        49           4   \n",
       "2       Rikitea  -23.1203  -134.9692       298.76        72         100   \n",
       "3    Nouakchott   18.0858   -15.9785       294.15        83          52   \n",
       "4     Upernavik   72.7868   -56.1549       274.09        77         100   \n",
       "\n",
       "   Wind Speed  \n",
       "0        1.54  \n",
       "1        1.79  \n",
       "2        3.26  \n",
       "3        5.14  \n",
       "4        2.16  "
      ]
     },
     "execution_count": 10,
     "metadata": {},
     "output_type": "execute_result"
    }
   ],
   "source": [
    "clean_city_df.head()"
   ]
  },
  {
   "cell_type": "markdown",
   "metadata": {},
   "source": [
    "## Plotting the Data\n",
    "* Use proper labeling of the plots using plot titles (including date of analysis) and axes labels.\n",
    "* Save the plotted figures as .pngs."
   ]
  },
  {
   "cell_type": "code",
   "execution_count": 11,
   "metadata": {},
   "outputs": [],
   "source": [
    "from datetime import date"
   ]
  },
  {
   "cell_type": "markdown",
   "metadata": {},
   "source": [
    "## Latitude vs. Temperature Plot"
   ]
  },
  {
   "cell_type": "code",
   "execution_count": 12,
   "metadata": {
    "scrolled": true
   },
   "outputs": [
    {
     "data": {
      "image/png": "[encoded data removed]",
      "text/plain": [
       "<Figure size 432x288 with 1 Axes>"
      ]
     },
     "metadata": {
      "needs_background": "light"
     },
     "output_type": "display_data"
    }
   ],
   "source": [
    "plt.scatter(clean_city_df['Latitude'], clean_city_df['Temperature'])\n",
    "plt.title(f'City Latitude vs. Temperature {date.today()}')\n",
    "plt.xlabel('Latitude')\n",
    "plt.ylabel('Temperature (F)')\n",
    "plt.grid(True)\n",
    "plt.savefig('lat_temp.png', bbox_inches='tight')"
   ]
  },
  {
   "cell_type": "markdown",
   "metadata": {},
   "source": [
    "## Latitude vs. Humidity Plot"
   ]
  },
  {
   "cell_type": "code",
   "execution_count": 15,
   "metadata": {},
   "outputs": [
    {
     "data": {
      "image/png": "[encoded data removed]",
      "text/plain": [
       "<Figure size 432x288 with 1 Axes>"
      ]
     },
     "metadata": {
      "needs_background": "light"
     },
     "output_type": "display_data"
    }
   ],
   "source": [
    "plt.scatter(clean_city_df['Latitude'], clean_city_df['Humidity'])\n",
    "plt.title(f'City Latitude vs. Humidity {date.today()}')\n",
    "plt.xlabel('Latitude')\n",
    "plt.ylabel('Humidity (%)')\n",
    "plt.grid(True)\n",
    "plt.savefig('lat_humid.png', bbox_inches='tight')"
   ]
  },
  {
   "cell_type": "markdown",
   "metadata": {},
   "source": [
    "## Latitude vs. Cloudiness Plot"
   ]
  },
  {
   "cell_type": "code",
   "execution_count": 17,
   "metadata": {},
   "outputs": [
    {
     "data": {
      "image/png": "[encoded data removed]",
      "text/plain": [
       "<Figure size 432x288 with 1 Axes>"
      ]
     },
     "metadata": {
      "needs_background": "light"
     },
     "output_type": "display_data"
    }
   ],
   "source": [
    "plt.scatter(clean_city_df['Latitude'], clean_city_df['Cloudiness'])\n",
    "plt.title(f'City Latitude vs. Cloudiness {date.today()}')\n",
    "plt.xlabel('Latitude')\n",
    "plt.ylabel('Cloudiness (%)')\n",
    "plt.grid(True)\n",
    "plt.savefig('lat_cloud.png', bbox_inches='tight')"
   ]
  },
  {
   "cell_type": "markdown",
   "metadata": {},
   "source": [
    "## Latitude vs. Wind Speed Plot"
   ]
  },
  {
   "cell_type": "code",
   "execution_count": 16,
   "metadata": {},
   "outputs": [
    {
     "data": {
      "image/png": "[encoded data removed]",
      "text/plain": [
       "<Figure size 432x288 with 1 Axes>"
      ]
     },
     "metadata": {
      "needs_background": "light"
     },
     "output_type": "display_data"
    }
   ],
   "source": [
    "plt.scatter(clean_city_df['Latitude'], clean_city_df['Wind Speed'])\n",
    "plt.title(f'City Latitude vs. Wind Speed {date.today()}')\n",
    "plt.xlabel('Latitude')\n",
    "plt.ylabel('Wind Speed (mph)')\n",
    "plt.grid(True)\n",
    "plt.savefig('lat_wind.png', bbox_inches='tight')"
   ]
  },
  {
   "cell_type": "markdown",
   "metadata": {},
   "source": [
    "## Linear Regression"
   ]
  },
  {
   "cell_type": "code",
   "execution_count": 24,
   "metadata": {},
   "outputs": [
    {
     "data": {
      "text/html": [
       "<div>\n",
       "<style scoped>\n",
       "    .dataframe tbody tr th:only-of-type {\n",
       "        vertical-align: middle;\n",
       "    }\n",
       "\n",
       "    .dataframe tbody tr th {\n",
       "        vertical-align: top;\n",
       "    }\n",
       "\n",
       "    .dataframe thead th {\n",
       "        text-align: right;\n",
       "    }\n",
       "</style>\n",
       "<table border=\"1\" class=\"dataframe\">\n",
       "  <thead>\n",
       "    <tr style=\"text-align: right;\">\n",
       "      <th></th>\n",
       "      <th>index</th>\n",
       "      <th>City</th>\n",
       "      <th>Latitude</th>\n",
       "      <th>Longitude</th>\n",
       "      <th>Temperature</th>\n",
       "      <th>Humidity</th>\n",
       "      <th>Cloudiness</th>\n",
       "      <th>Wind Speed</th>\n",
       "    </tr>\n",
       "  </thead>\n",
       "  <tbody>\n",
       "    <tr>\n",
       "      <th>0</th>\n",
       "      <td>1</td>\n",
       "      <td>New Norfolk</td>\n",
       "      <td>-42.7826</td>\n",
       "      <td>147.0587</td>\n",
       "      <td>289.04</td>\n",
       "      <td>49</td>\n",
       "      <td>4</td>\n",
       "      <td>1.79</td>\n",
       "    </tr>\n",
       "    <tr>\n",
       "      <th>1</th>\n",
       "      <td>2</td>\n",
       "      <td>Rikitea</td>\n",
       "      <td>-23.1203</td>\n",
       "      <td>-134.9692</td>\n",
       "      <td>298.76</td>\n",
       "      <td>72</td>\n",
       "      <td>100</td>\n",
       "      <td>3.26</td>\n",
       "    </tr>\n",
       "    <tr>\n",
       "      <th>2</th>\n",
       "      <td>6</td>\n",
       "      <td>Hobart</td>\n",
       "      <td>-42.8794</td>\n",
       "      <td>147.3294</td>\n",
       "      <td>288.82</td>\n",
       "      <td>58</td>\n",
       "      <td>20</td>\n",
       "      <td>3.60</td>\n",
       "    </tr>\n",
       "    <tr>\n",
       "      <th>3</th>\n",
       "      <td>9</td>\n",
       "      <td>Sorong</td>\n",
       "      <td>-0.8833</td>\n",
       "      <td>131.2500</td>\n",
       "      <td>301.49</td>\n",
       "      <td>73</td>\n",
       "      <td>89</td>\n",
       "      <td>1.16</td>\n",
       "    </tr>\n",
       "    <tr>\n",
       "      <th>4</th>\n",
       "      <td>10</td>\n",
       "      <td>Daru</td>\n",
       "      <td>-9.0763</td>\n",
       "      <td>143.2092</td>\n",
       "      <td>302.14</td>\n",
       "      <td>73</td>\n",
       "      <td>64</td>\n",
       "      <td>1.06</td>\n",
       "    </tr>\n",
       "    <tr>\n",
       "      <th>...</th>\n",
       "      <td>...</td>\n",
       "      <td>...</td>\n",
       "      <td>...</td>\n",
       "      <td>...</td>\n",
       "      <td>...</td>\n",
       "      <td>...</td>\n",
       "      <td>...</td>\n",
       "      <td>...</td>\n",
       "    </tr>\n",
       "    <tr>\n",
       "      <th>174</th>\n",
       "      <td>524</td>\n",
       "      <td>Nortelândia</td>\n",
       "      <td>-14.4547</td>\n",
       "      <td>-56.8028</td>\n",
       "      <td>294.25</td>\n",
       "      <td>89</td>\n",
       "      <td>69</td>\n",
       "      <td>0.58</td>\n",
       "    </tr>\n",
       "    <tr>\n",
       "      <th>175</th>\n",
       "      <td>533</td>\n",
       "      <td>Morondava</td>\n",
       "      <td>-20.2833</td>\n",
       "      <td>44.2833</td>\n",
       "      <td>298.22</td>\n",
       "      <td>72</td>\n",
       "      <td>72</td>\n",
       "      <td>2.19</td>\n",
       "    </tr>\n",
       "    <tr>\n",
       "      <th>176</th>\n",
       "      <td>537</td>\n",
       "      <td>Saint-Joseph</td>\n",
       "      <td>-21.3667</td>\n",
       "      <td>55.6167</td>\n",
       "      <td>295.38</td>\n",
       "      <td>73</td>\n",
       "      <td>90</td>\n",
       "      <td>8.75</td>\n",
       "    </tr>\n",
       "    <tr>\n",
       "      <th>177</th>\n",
       "      <td>544</td>\n",
       "      <td>Tacuarembó</td>\n",
       "      <td>-31.7333</td>\n",
       "      <td>-55.9833</td>\n",
       "      <td>284.67</td>\n",
       "      <td>82</td>\n",
       "      <td>0</td>\n",
       "      <td>1.67</td>\n",
       "    </tr>\n",
       "    <tr>\n",
       "      <th>178</th>\n",
       "      <td>545</td>\n",
       "      <td>Aparecida do Taboado</td>\n",
       "      <td>-20.0867</td>\n",
       "      <td>-51.0936</td>\n",
       "      <td>295.63</td>\n",
       "      <td>64</td>\n",
       "      <td>82</td>\n",
       "      <td>2.70</td>\n",
       "    </tr>\n",
       "  </tbody>\n",
       "</table>\n",
       "<p>179 rows × 8 columns</p>\n",
       "</div>"
      ],
      "text/plain": [
       "     index                  City  Latitude  Longitude  Temperature  Humidity  \\\n",
       "0        1           New Norfolk  -42.7826   147.0587       289.04        49   \n",
       "1        2               Rikitea  -23.1203  -134.9692       298.76        72   \n",
       "2        6                Hobart  -42.8794   147.3294       288.82        58   \n",
       "3        9                Sorong   -0.8833   131.2500       301.49        73   \n",
       "4       10                  Daru   -9.0763   143.2092       302.14        73   \n",
       "..     ...                   ...       ...        ...          ...       ...   \n",
       "174    524           Nortelândia  -14.4547   -56.8028       294.25        89   \n",
       "175    533             Morondava  -20.2833    44.2833       298.22        72   \n",
       "176    537          Saint-Joseph  -21.3667    55.6167       295.38        73   \n",
       "177    544            Tacuarembó  -31.7333   -55.9833       284.67        82   \n",
       "178    545  Aparecida do Taboado  -20.0867   -51.0936       295.63        64   \n",
       "\n",
       "     Cloudiness  Wind Speed  \n",
       "0             4        1.79  \n",
       "1           100        3.26  \n",
       "2            20        3.60  \n",
       "3            89        1.16  \n",
       "4            64        1.06  \n",
       "..          ...         ...  \n",
       "174          69        0.58  \n",
       "175          72        2.19  \n",
       "176          90        8.75  \n",
       "177           0        1.67  \n",
       "178          82        2.70  \n",
       "\n",
       "[179 rows x 8 columns]"
      ]
     },
     "execution_count": 24,
     "metadata": {},
     "output_type": "execute_result"
    }
   ],
   "source": [
    "nothern = clean_city_df.loc[clean_city_df[\"Latitude\"] >= 0.0]\n",
    "nothern.reset_index(inplace=False)\n",
    "\n",
    "southern = clean_city_df.loc[clean_city_df[\"Latitude\"] < 0.0]\n",
    "southern.reset_index(inplace=False)"
   ]
  },
  {
   "cell_type": "code",
   "execution_count": 25,
   "metadata": {},
   "outputs": [],
   "source": [
    "def plotLinearRegression(xdata,ydata,xlbl,ylbl,lblpos,ifig):\n",
    "    (slope, intercept, rvalue, pvalue, stderr) = linregress(xdata, ydata)\n",
    "    print(f\"The r-squared is: {rvalue}\")\n",
    "    regress_values = xdata * slope + intercept\n",
    "    line_eq = \"y = \" + str(round(slope,2)) + \"x + \" + str(round(intercept,2))\n",
    "\n",
    "    plt.scatter(xdata,ydata)\n",
    "    plt.plot(xdata,regress_values,\"r-\")\n",
    "    plt.annotate(line_eq,lblpos,fontsize=15,color=\"red\")\n",
    "    plt.xlabel(xlbl)\n",
    "    plt.ylabel(ylbl)\n",
    "    plt.show()"
   ]
  },
  {
   "cell_type": "markdown",
   "metadata": {},
   "source": [
    "####  Northern Hemisphere - Max Temp vs. Latitude Linear Regression"
   ]
  },
  {
   "cell_type": "code",
   "execution_count": 28,
   "metadata": {},
   "outputs": [
    {
     "name": "stdout",
     "output_type": "stream",
     "text": [
      "The r-squared is: -0.8918536193493182\n"
     ]
    },
    {
     "data": {
      "image/png": "[encoded data removed]",
      "text/plain": [
       "<Figure size 432x288 with 1 Axes>"
      ]
     },
     "metadata": {
      "needs_background": "light"
     },
     "output_type": "display_data"
    }
   ],
   "source": [
    "xlbl = \"Latitude\"\n",
    "ylbl = \"Temperature\"\n",
    "lblpos = (0,25)\n",
    "plotLinearRegression(nothern[xlbl],nothern[ylbl],xlbl,ylbl,lblpos,5)"
   ]
  },
  {
   "cell_type": "markdown",
   "metadata": {},
   "source": [
    "####  Southern Hemisphere - Max Temp vs. Latitude Linear Regression"
   ]
  },
  {
   "cell_type": "code",
   "execution_count": 30,
   "metadata": {},
   "outputs": [
    {
     "name": "stdout",
     "output_type": "stream",
     "text": [
      "The r-squared is: 0.8008768132723831\n"
     ]
    },
    {
     "data": {
      "image/png": "[encoded data removed]",
      "text/plain": [
       "<Figure size 432x288 with 1 Axes>"
      ]
     },
     "metadata": {
      "needs_background": "light"
     },
     "output_type": "display_data"
    }
   ],
   "source": [
    "xlbl = \"Latitude\"\n",
    "ylbl = \"Temperature\"\n",
    "lblpos = (-55,90)\n",
    "plotLinearRegression(southern[xlbl],southern[ylbl],xlbl,ylbl,lblpos,6)"
   ]
  },
  {
   "cell_type": "markdown",
   "metadata": {},
   "source": [
    "####  Northern Hemisphere - Humidity (%) vs. Latitude Linear Regression"
   ]
  },
  {
   "cell_type": "code",
   "execution_count": 31,
   "metadata": {},
   "outputs": [
    {
     "name": "stdout",
     "output_type": "stream",
     "text": [
      "The r-squared is: 0.0646034315327587\n"
     ]
    },
    {
     "data": {
      "image/png": "[encoded data removed]",
      "text/plain": [
       "<Figure size 432x288 with 1 Axes>"
      ]
     },
     "metadata": {
      "needs_background": "light"
     },
     "output_type": "display_data"
    }
   ],
   "source": [
    "xlbl = \"Latitude\"\n",
    "ylbl = \"Humidity\"\n",
    "lblpos = (45,10)\n",
    "plotLinearRegression(nothern[xlbl],nothern[ylbl],xlbl,ylbl,lblpos,7)"
   ]
  },
  {
   "cell_type": "markdown",
   "metadata": {},
   "source": [
    "####  Southern Hemisphere - Humidity (%) vs. Latitude Linear Regression"
   ]
  },
  {
   "cell_type": "code",
   "execution_count": 32,
   "metadata": {},
   "outputs": [
    {
     "name": "stdout",
     "output_type": "stream",
     "text": [
      "The r-squared is: 0.16128943766129186\n"
     ]
    },
    {
     "data": {
      "image/png": "[encoded data removed]",
      "text/plain": [
       "<Figure size 432x288 with 1 Axes>"
      ]
     },
     "metadata": {
      "needs_background": "light"
     },
     "output_type": "display_data"
    }
   ],
   "source": [
    "xlbl = \"Latitude\"\n",
    "ylbl = \"Humidity\"\n",
    "lblpos = (-55,15)\n",
    "plotLinearRegression(southern[xlbl],southern[ylbl],xlbl,ylbl,lblpos,8)"
   ]
  },
  {
   "cell_type": "markdown",
   "metadata": {},
   "source": [
    "####  Northern Hemisphere - Cloudiness (%) vs. Latitude Linear Regression"
   ]
  },
  {
   "cell_type": "code",
   "execution_count": 33,
   "metadata": {},
   "outputs": [
    {
     "name": "stdout",
     "output_type": "stream",
     "text": [
      "The r-squared is: 0.1242360128879882\n"
     ]
    },
    {
     "data": {
      "image/png": "[encoded data removed]",
      "text/plain": [
       "<Figure size 432x288 with 1 Axes>"
      ]
     },
     "metadata": {
      "needs_background": "light"
     },
     "output_type": "display_data"
    }
   ],
   "source": [
    "xlbl = \"Latitude\"\n",
    "ylbl = \"Cloudiness\"\n",
    "lblpos = (20,40)\n",
    "plotLinearRegression(nothern[xlbl],nothern[ylbl],xlbl,ylbl,lblpos,9)"
   ]
  },
  {
   "cell_type": "markdown",
   "metadata": {},
   "source": [
    "####  Southern Hemisphere - Cloudiness (%) vs. Latitude Linear Regression"
   ]
  },
  {
   "cell_type": "code",
   "execution_count": 35,
   "metadata": {},
   "outputs": [
    {
     "name": "stdout",
     "output_type": "stream",
     "text": [
      "The r-squared is: 0.2082177223638828\n"
     ]
    },
    {
     "data": {
      "image/png": "[encoded data removed]",
      "text/plain": [
       "<Figure size 432x288 with 1 Axes>"
      ]
     },
     "metadata": {
      "needs_background": "light"
     },
     "output_type": "display_data"
    }
   ],
   "source": [
    "xlbl = \"Latitude\"\n",
    "ylbl = \"Cloudiness\"\n",
    "lblpos = (-55,50)\n",
    "plotLinearRegression(southern[xlbl],southern[ylbl],xlbl,ylbl,lblpos,10)"
   ]
  },
  {
   "cell_type": "markdown",
   "metadata": {},
   "source": [
    "####  Northern Hemisphere - Wind Speed (mph) vs. Latitude Linear Regression"
   ]
  },
  {
   "cell_type": "code",
   "execution_count": 36,
   "metadata": {},
   "outputs": [
    {
     "name": "stdout",
     "output_type": "stream",
     "text": [
      "The r-squared is: 0.1646639502218936\n"
     ]
    },
    {
     "data": {
      "image/png": "[encoded data removed]",
      "text/plain": [
       "<Figure size 432x288 with 1 Axes>"
      ]
     },
     "metadata": {
      "needs_background": "light"
     },
     "output_type": "display_data"
    }
   ],
   "source": [
    "xlbl = \"Latitude\"\n",
    "ylbl = \"Wind Speed\"\n",
    "lblpos = (0,30)\n",
    "plotLinearRegression(nothern[xlbl],nothern[ylbl],xlbl,ylbl,lblpos,11)"
   ]
  },
  {
   "cell_type": "markdown",
   "metadata": {},
   "source": [
    "####  Southern Hemisphere - Wind Speed (mph) vs. Latitude Linear Regression"
   ]
  },
  {
   "cell_type": "code",
   "execution_count": 37,
   "metadata": {},
   "outputs": [
    {
     "name": "stdout",
     "output_type": "stream",
     "text": [
      "The r-squared is: -0.286019053262898\n"
     ]
    },
    {
     "data": {
      "image/png": "[encoded data removed]",
      "text/plain": [
       "<Figure size 432x288 with 1 Axes>"
      ]
     },
     "metadata": {
      "needs_background": "light"
     },
     "output_type": "display_data"
    }
   ],
   "source": [
    "xlbl = \"Latitude\"\n",
    "ylbl = \"Wind Speed\"\n",
    "lblpos = (-25,33)\n",
    "plotLinearRegression(southern[xlbl],southern[ylbl],xlbl,ylbl,lblpos,12)"
   ]
  },
  {
   "cell_type": "code",
   "execution_count": 38,
   "metadata": {},
   "outputs": [
    {
     "name": "stdout",
     "output_type": "stream",
     "text": [
      "The tempurature with any given area does seem to have a coorelation with the latitude. There does not seem to be a coorelation between the latitude and the cloud coverage in a given region. Windspeed is also negligable when compared to latitude.\n"
     ]
    }
   ],
   "source": [
    "print('The tempurature with any given area does seem to have a coorelation with the latitude. There does not seem to be a coorelation between the latitude and the cloud coverage in a given region. Windspeed is also negligable when compared to latitude.')"
   ]
  },
  {
   "cell_type": "code",
   "execution_count": null,
   "metadata": {},
   "outputs": [],
   "source": []
  }
 ],
 "metadata": {
  "anaconda-cloud": {},
  "kernel_info": {
   "name": "python3"
  },
  "kernelspec": {
   "display_name": "Python 3",
   "language": "python",
   "name": "python3"
  },
  "language_info": {
   "codemirror_mode": {
    "name": "ipython",
    "version": 3
   },
   "file_extension": ".py",
   "mimetype": "text/x-python",
   "name": "python",
   "nbconvert_exporter": "python",
   "pygments_lexer": "ipython3",
   "version": "3.8.5"
  },
  "latex_envs": {
   "LaTeX_envs_menu_present": true,
   "autoclose": false,
   "autocomplete": true,
   "bibliofile": "biblio.bib",
   "cite_by": "apalike",
   "current_citInitial": 1,
   "eqLabelWithNumbers": true,
   "eqNumInitial": 1,
   "hotkeys": {
    "equation": "Ctrl-E",
    "itemize": "Ctrl-I"
   },
   "labels_anchors": false,
   "latex_user_defs": false,
   "report_style_numbering": false,
   "user_envs_cfg": false
  },
  "nteract": {
   "version": "0.12.3"
  }
 },
 "nbformat": 4,
 "nbformat_minor": 2
}
